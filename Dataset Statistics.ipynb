{
 "cells": [
  {
   "cell_type": "markdown",
   "metadata": {},
   "source": [
    "* Install `pcdet` library and then generate the data infos by running the following command: \n",
    "```python \n",
    "python -m pcdet.datasets.kitti.kitti_dataset create_kitti_infos tools/cfgs/dataset_configs/kitti_dataset.yaml\n",
    "```"
   ]
  },
  {
   "cell_type": "code",
   "execution_count": 1,
   "metadata": {},
   "outputs": [],
   "source": [
    "from tqdm import tqdm"
   ]
  },
  {
   "cell_type": "code",
   "execution_count": 2,
   "metadata": {},
   "outputs": [],
   "source": [
    "import sys\n",
    "import yaml\n",
    "from pathlib import Path\n",
    "from easydict import EasyDict\n",
    "import numpy as np\n",
    "\n",
    "from pcdet.datasets import KittiDataset\n",
    "\n",
    "import pandas_profiling\n",
    "import pandas as pd"
   ]
  },
  {
   "cell_type": "code",
   "execution_count": 3,
   "metadata": {},
   "outputs": [],
   "source": [
    "dataset_cfg_dir = '/home/farzad/OpenPCDet/tools/cfgs/dataset_configs/kitti_dataset.yaml'\n",
    "pcdet_root_dir = Path('/home/farzad/OpenPCDet')\n",
    "class_names = ['Pedestrian', 'Car']"
   ]
  },
  {
   "cell_type": "code",
   "execution_count": 4,
   "metadata": {},
   "outputs": [
    {
     "name": "stderr",
     "output_type": "stream",
     "text": [
      "<ipython-input-4-e660d07e3510>:1: YAMLLoadWarning: calling yaml.load() without Loader=... is deprecated, as the default Loader is unsafe. Please read https://msg.pyyaml.org/load for full details.\n",
      "  dataset_cfg = EasyDict(yaml.load(open(dataset_cfg_dir)))\n"
     ]
    }
   ],
   "source": [
    "dataset_cfg = EasyDict(yaml.load(open(dataset_cfg_dir)))\n",
    "data_path = pcdet_root_dir / 'data' / 'kitti'\n",
    "save_path = pcdet_root_dir / 'data' / 'kitti'"
   ]
  },
  {
   "cell_type": "code",
   "execution_count": 5,
   "metadata": {},
   "outputs": [],
   "source": [
    "kitti = KittiDataset(dataset_cfg=dataset_cfg, class_names=class_names, root_path=data_path)"
   ]
  },
  {
   "cell_type": "code",
   "execution_count": 6,
   "metadata": {
    "scrolled": true
   },
   "outputs": [
    {
     "name": "stdout",
     "output_type": "stream",
     "text": [
      "train sample_idx: 000000\n",
      "train sample_idx: 000001\n",
      "train sample_idx: 000002\n",
      "train sample_idx: 000003\n",
      "train sample_idx: 000004\n",
      "train sample_idx: 000005\n",
      "train sample_idx: 000006\n",
      "train sample_idx: 000007\n",
      "train sample_idx: 000000\n",
      "train sample_idx: 000001\n",
      "train sample_idx: 000002\n",
      "train sample_idx: 000003\n",
      "train sample_idx: 000004\n",
      "train sample_idx: 000005\n",
      "train sample_idx: 000006\n",
      "train sample_idx: 000007\n",
      "train sample_idx: 000008\n",
      "train sample_idx: 000009\n",
      "train sample_idx: 000010\n",
      "train sample_idx: 000011\n",
      "train sample_idx: 000012\n",
      "train sample_idx: 000013\n",
      "train sample_idx: 000014\n",
      "train sample_idx: 000015\n",
      "train sample_idx: 000016\n",
      "train sample_idx: 000017\n",
      "train sample_idx: 000018train sample_idx: 000019\n",
      "train sample_idx: 000020\n",
      "\n",
      "train sample_idx: 000021\n",
      "train sample_idx: 000022\n",
      "train sample_idx: 000023\n",
      "train sample_idx: 000024\n",
      "train sample_idx: 000025\n",
      "train sample_idx: 000026\n",
      "train sample_idx: 000027\n",
      "train sample_idx: 000028\n",
      "train sample_idx: 000029\n",
      "train sample_idx: 000030\n",
      "train sample_idx: 000031\n",
      "train sample_idx: 000032\n",
      "train sample_idx: 000033\n",
      "train sample_idx: 000034\n",
      "train sample_idx: 000035\n",
      "train sample_idx: 000036\n",
      "train sample_idx: 000037\n",
      "train sample_idx: 000038\n",
      "train sample_idx: 000039\n",
      "train sample_idx: 000040\n",
      "train sample_idx: 000041\n",
      "train sample_idx: 000042\n",
      "train sample_idx: 000043\n",
      "train sample_idx: 000000\n",
      "train sample_idx: 000001\n",
      "train sample_idx: 000002\n",
      "train sample_idx: 000003\n",
      "train sample_idx: 000004train sample_idx: 000005\n",
      "\n",
      "train sample_idx: 000006\n",
      "train sample_idx: 000007\n",
      "train sample_idx: 000008\n",
      "train sample_idx: 000009\n",
      "train sample_idx: 000010\n",
      "train sample_idx: 000011\n",
      "train sample_idx: 000012\n",
      "train sample_idx: 000013\n",
      "train sample_idx: 000014\n",
      "train sample_idx: 000015\n",
      "train sample_idx: 000016\n",
      "train sample_idx: 000017\n",
      "train sample_idx: 000018\n",
      "train sample_idx: 000019\n",
      "train sample_idx: 000020\n",
      "train sample_idx: 000021\n",
      "train sample_idx: 000022\n",
      "train sample_idx: 000023\n",
      "train sample_idx: 000024train sample_idx: 000025\n",
      "\n",
      "train sample_idx: 000026\n",
      "train sample_idx: 000027\n",
      "train sample_idx: 000028\n",
      "train sample_idx: 000029\n",
      "train sample_idx: 000030\n",
      "train sample_idx: 000031\n",
      "train sample_idx: 000032\n",
      "train sample_idx: 000033\n",
      "train sample_idx: 000034\n",
      "train sample_idx: 000035\n",
      "train sample_idx: 000036\n",
      "train sample_idx: 000037\n",
      "train sample_idx: 000038\n",
      "train sample_idx: 000039\n"
     ]
    }
   ],
   "source": [
    "infos = kitti.get_infos();"
   ]
  },
  {
   "cell_type": "code",
   "execution_count": 7,
   "metadata": {},
   "outputs": [
    {
     "name": "stderr",
     "output_type": "stream",
     "text": [
      "100%|██████████| 92/92 [00:00<00:00, 22662.59it/s]\n"
     ]
    }
   ],
   "source": [
    "per_img_infos = []\n",
    "per_obj_infos = []\n",
    "\n",
    "for info in tqdm(infos):\n",
    "    \n",
    "    annos = info['annos']\n",
    "    num_gts = annos['gt_boxes_lidar'].shape[0]\n",
    "    \n",
    "    lidar_idx = info['point_cloud']['lidar_idx']\n",
    "    \n",
    "    img_info = {}\n",
    "    img_info['lidar_idx'] = lidar_idx\n",
    "    img_info['num_gts'] = num_gts\n",
    "    img_info['img_height'] = info['image']['image_shape'][0]\n",
    "    img_info['img_width'] = info['image']['image_shape'][1]\n",
    "        \n",
    "    for i in range(num_gts):\n",
    "        obj_info = {}\n",
    "        obj_info['lidar_idx'] = lidar_idx\n",
    "        \n",
    "        \n",
    "        for key, val in annos.items():\n",
    "            if val.ndim == 2:  # split columns with 2D elements\n",
    "                for j in range(val.shape[-1]):\n",
    "                    new_key = key + f'_{j}'\n",
    "                    obj_info[new_key] = val[i, j]\n",
    "            else:\n",
    "                obj_info[key] = val[i]\n",
    "            \n",
    "        per_obj_infos.append(obj_info)\n",
    "    \n",
    "    per_img_infos.append(img_info)"
   ]
  },
  {
   "cell_type": "code",
   "execution_count": 9,
   "metadata": {},
   "outputs": [
    {
     "data": {
      "application/vnd.jupyter.widget-view+json": {
       "model_id": "0835d547694c4da9aed4d288127031ce",
       "version_major": 2,
       "version_minor": 0
      },
      "text/plain": [
       "HBox(children=(FloatProgress(value=0.0, description='Summarize dataset', max=13.0, style=ProgressStyle(descrip…"
      ]
     },
     "metadata": {},
     "output_type": "display_data"
    },
    {
     "name": "stdout",
     "output_type": "stream",
     "text": [
      "\n"
     ]
    },
    {
     "data": {
      "application/vnd.jupyter.widget-view+json": {
       "model_id": "3bc9f1c0a36b4fffacb622d05ad94e05",
       "version_major": 2,
       "version_minor": 0
      },
      "text/plain": [
       "HBox(children=(FloatProgress(value=0.0, description='Generate report structure', max=1.0, style=ProgressStyle(…"
      ]
     },
     "metadata": {},
     "output_type": "display_data"
    },
    {
     "name": "stdout",
     "output_type": "stream",
     "text": [
      "\n"
     ]
    },
    {
     "data": {
      "application/vnd.jupyter.widget-view+json": {
       "model_id": "ff9454e71d08428994e2542064632d76",
       "version_major": 2,
       "version_minor": 0
      },
      "text/plain": [
       "HBox(children=(FloatProgress(value=0.0, description='Render HTML', max=1.0, style=ProgressStyle(description_wi…"
      ]
     },
     "metadata": {},
     "output_type": "display_data"
    },
    {
     "name": "stdout",
     "output_type": "stream",
     "text": [
      "\n"
     ]
    },
    {
     "data": {
      "application/vnd.jupyter.widget-view+json": {
       "model_id": "b93005ac49854d7592b528be49259114",
       "version_major": 2,
       "version_minor": 0
      },
      "text/plain": [
       "HBox(children=(FloatProgress(value=0.0, description='Export report to file', max=1.0, style=ProgressStyle(desc…"
      ]
     },
     "metadata": {},
     "output_type": "display_data"
    },
    {
     "name": "stdout",
     "output_type": "stream",
     "text": [
      "\n"
     ]
    },
    {
     "data": {
      "application/vnd.jupyter.widget-view+json": {
       "model_id": "06fc9d62f74541a8a9212f228d99ad07",
       "version_major": 2,
       "version_minor": 0
      },
      "text/plain": [
       "HBox(children=(FloatProgress(value=0.0, description='Summarize dataset', max=36.0, style=ProgressStyle(descrip…"
      ]
     },
     "metadata": {},
     "output_type": "display_data"
    },
    {
     "name": "stdout",
     "output_type": "stream",
     "text": [
      "\n"
     ]
    },
    {
     "data": {
      "application/vnd.jupyter.widget-view+json": {
       "model_id": "72abe8842534467c89924ff8a404aa5c",
       "version_major": 2,
       "version_minor": 0
      },
      "text/plain": [
       "HBox(children=(FloatProgress(value=0.0, description='Generate report structure', max=1.0, style=ProgressStyle(…"
      ]
     },
     "metadata": {},
     "output_type": "display_data"
    },
    {
     "name": "stdout",
     "output_type": "stream",
     "text": [
      "\n"
     ]
    },
    {
     "data": {
      "application/vnd.jupyter.widget-view+json": {
       "model_id": "66686cd28fb54c5e87b4883d4564124b",
       "version_major": 2,
       "version_minor": 0
      },
      "text/plain": [
       "HBox(children=(FloatProgress(value=0.0, description='Render HTML', max=1.0, style=ProgressStyle(description_wi…"
      ]
     },
     "metadata": {},
     "output_type": "display_data"
    },
    {
     "name": "stdout",
     "output_type": "stream",
     "text": [
      "\n"
     ]
    },
    {
     "data": {
      "application/vnd.jupyter.widget-view+json": {
       "model_id": "423afdc5eb8f47efbcff9c48412ef018",
       "version_major": 2,
       "version_minor": 0
      },
      "text/plain": [
       "HBox(children=(FloatProgress(value=0.0, description='Export report to file', max=1.0, style=ProgressStyle(desc…"
      ]
     },
     "metadata": {},
     "output_type": "display_data"
    },
    {
     "name": "stdout",
     "output_type": "stream",
     "text": [
      "\n"
     ]
    }
   ],
   "source": [
    "per_img_infos_pd = pd.DataFrame.from_dict(per_img_infos)\n",
    "per_obj_infos_pd = pd.DataFrame.from_dict(per_obj_infos)\n",
    "report_img = pandas_profiling.ProfileReport(per_img_infos_pd, minimal=True)\n",
    "report_obj = pandas_profiling.ProfileReport(per_obj_infos_pd, minimal=True)\n",
    "\n",
    "report_img.to_file(\"./dataset_reports/carla_kitti_per_img.html\")\n",
    "report_obj.to_file(\"./dataset_reports/carla_kitti_per_obj.html\")"
   ]
  }
 ],
 "metadata": {
  "kernelspec": {
   "display_name": "Python 3",
   "language": "python",
   "name": "python3"
  },
  "language_info": {
   "codemirror_mode": {
    "name": "ipython",
    "version": 3
   },
   "file_extension": ".py",
   "mimetype": "text/x-python",
   "name": "python",
   "nbconvert_exporter": "python",
   "pygments_lexer": "ipython3",
   "version": "3.8.3"
  }
 },
 "nbformat": 4,
 "nbformat_minor": 4
}
